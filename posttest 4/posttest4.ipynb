{
 "cells": [
  {
   "cell_type": "markdown",
   "id": "f4a6c06e-4e1b-4be9-9170-1d8427be0415",
   "metadata": {},
   "source": [
    "# Nama : Fitra Noviarji\n",
    "# Nim :  2109106017\n",
    "# POSTTEST 4"
   ]
  },
  {
   "cell_type": "code",
   "execution_count": 3,
   "id": "3f74783d-1261-4fcd-a1de-162ce9683de5",
   "metadata": {},
   "outputs": [],
   "source": [
    "import pandas as pd\n",
    "from matplotlib import pyplot as plt\n",
    "import seaborn as sns\n",
    "from sklearn.model_selection import train_test_split\n",
    "import numpy as np"
   ]
  },
  {
   "cell_type": "code",
   "execution_count": 4,
   "id": "d96b9da1-926f-462f-b639-ddbfa5e5b2f0",
   "metadata": {},
   "outputs": [
    {
     "data": {
      "text/html": [
       "<div>\n",
       "<style scoped>\n",
       "    .dataframe tbody tr th:only-of-type {\n",
       "        vertical-align: middle;\n",
       "    }\n",
       "\n",
       "    .dataframe tbody tr th {\n",
       "        vertical-align: top;\n",
       "    }\n",
       "\n",
       "    .dataframe thead th {\n",
       "        text-align: right;\n",
       "    }\n",
       "</style>\n",
       "<table border=\"1\" class=\"dataframe\">\n",
       "  <thead>\n",
       "    <tr style=\"text-align: right;\">\n",
       "      <th></th>\n",
       "      <th>name</th>\n",
       "      <th>selling_price</th>\n",
       "      <th>year</th>\n",
       "      <th>seller_type</th>\n",
       "      <th>owner</th>\n",
       "      <th>km_driven</th>\n",
       "      <th>ex_showroom_price</th>\n",
       "    </tr>\n",
       "  </thead>\n",
       "  <tbody>\n",
       "    <tr>\n",
       "      <th>0</th>\n",
       "      <td>Royal Enfield Classic 350</td>\n",
       "      <td>175000</td>\n",
       "      <td>2019</td>\n",
       "      <td>Individual</td>\n",
       "      <td>1st owner</td>\n",
       "      <td>350</td>\n",
       "      <td>NaN</td>\n",
       "    </tr>\n",
       "    <tr>\n",
       "      <th>1</th>\n",
       "      <td>Honda Dio</td>\n",
       "      <td>45000</td>\n",
       "      <td>2017</td>\n",
       "      <td>Individual</td>\n",
       "      <td>1st owner</td>\n",
       "      <td>5650</td>\n",
       "      <td>NaN</td>\n",
       "    </tr>\n",
       "    <tr>\n",
       "      <th>2</th>\n",
       "      <td>Royal Enfield Classic Gunmetal Grey</td>\n",
       "      <td>150000</td>\n",
       "      <td>2018</td>\n",
       "      <td>Individual</td>\n",
       "      <td>1st owner</td>\n",
       "      <td>12000</td>\n",
       "      <td>148114.0</td>\n",
       "    </tr>\n",
       "    <tr>\n",
       "      <th>3</th>\n",
       "      <td>Yamaha Fazer FI V 2.0 [2016-2018]</td>\n",
       "      <td>65000</td>\n",
       "      <td>2015</td>\n",
       "      <td>Individual</td>\n",
       "      <td>1st owner</td>\n",
       "      <td>23000</td>\n",
       "      <td>89643.0</td>\n",
       "    </tr>\n",
       "    <tr>\n",
       "      <th>4</th>\n",
       "      <td>Yamaha SZ [2013-2014]</td>\n",
       "      <td>20000</td>\n",
       "      <td>2011</td>\n",
       "      <td>Individual</td>\n",
       "      <td>2nd owner</td>\n",
       "      <td>21000</td>\n",
       "      <td>NaN</td>\n",
       "    </tr>\n",
       "    <tr>\n",
       "      <th>...</th>\n",
       "      <td>...</td>\n",
       "      <td>...</td>\n",
       "      <td>...</td>\n",
       "      <td>...</td>\n",
       "      <td>...</td>\n",
       "      <td>...</td>\n",
       "      <td>...</td>\n",
       "    </tr>\n",
       "    <tr>\n",
       "      <th>1056</th>\n",
       "      <td>Activa 3g</td>\n",
       "      <td>17000</td>\n",
       "      <td>2010</td>\n",
       "      <td>Individual</td>\n",
       "      <td>1st owner</td>\n",
       "      <td>500000</td>\n",
       "      <td>52000.0</td>\n",
       "    </tr>\n",
       "    <tr>\n",
       "      <th>1057</th>\n",
       "      <td>Honda CB twister</td>\n",
       "      <td>16000</td>\n",
       "      <td>2012</td>\n",
       "      <td>Individual</td>\n",
       "      <td>1st owner</td>\n",
       "      <td>33000</td>\n",
       "      <td>51000.0</td>\n",
       "    </tr>\n",
       "    <tr>\n",
       "      <th>1058</th>\n",
       "      <td>Bajaj Discover 125</td>\n",
       "      <td>15000</td>\n",
       "      <td>2013</td>\n",
       "      <td>Individual</td>\n",
       "      <td>2nd owner</td>\n",
       "      <td>35000</td>\n",
       "      <td>57000.0</td>\n",
       "    </tr>\n",
       "    <tr>\n",
       "      <th>1059</th>\n",
       "      <td>Honda CB Shine</td>\n",
       "      <td>12000</td>\n",
       "      <td>2009</td>\n",
       "      <td>Individual</td>\n",
       "      <td>1st owner</td>\n",
       "      <td>53000</td>\n",
       "      <td>58000.0</td>\n",
       "    </tr>\n",
       "    <tr>\n",
       "      <th>1060</th>\n",
       "      <td>Bajaj Pulsar 150</td>\n",
       "      <td>10000</td>\n",
       "      <td>2008</td>\n",
       "      <td>Individual</td>\n",
       "      <td>1st owner</td>\n",
       "      <td>92233</td>\n",
       "      <td>75000.0</td>\n",
       "    </tr>\n",
       "  </tbody>\n",
       "</table>\n",
       "<p>1061 rows × 7 columns</p>\n",
       "</div>"
      ],
      "text/plain": [
       "                                     name  selling_price  year seller_type  \\\n",
       "0               Royal Enfield Classic 350         175000  2019  Individual   \n",
       "1                               Honda Dio          45000  2017  Individual   \n",
       "2     Royal Enfield Classic Gunmetal Grey         150000  2018  Individual   \n",
       "3       Yamaha Fazer FI V 2.0 [2016-2018]          65000  2015  Individual   \n",
       "4                   Yamaha SZ [2013-2014]          20000  2011  Individual   \n",
       "...                                   ...            ...   ...         ...   \n",
       "1056                            Activa 3g          17000  2010  Individual   \n",
       "1057                     Honda CB twister          16000  2012  Individual   \n",
       "1058                   Bajaj Discover 125          15000  2013  Individual   \n",
       "1059                       Honda CB Shine          12000  2009  Individual   \n",
       "1060                     Bajaj Pulsar 150          10000  2008  Individual   \n",
       "\n",
       "          owner  km_driven  ex_showroom_price  \n",
       "0     1st owner        350                NaN  \n",
       "1     1st owner       5650                NaN  \n",
       "2     1st owner      12000           148114.0  \n",
       "3     1st owner      23000            89643.0  \n",
       "4     2nd owner      21000                NaN  \n",
       "...         ...        ...                ...  \n",
       "1056  1st owner     500000            52000.0  \n",
       "1057  1st owner      33000            51000.0  \n",
       "1058  2nd owner      35000            57000.0  \n",
       "1059  1st owner      53000            58000.0  \n",
       "1060  1st owner      92233            75000.0  \n",
       "\n",
       "[1061 rows x 7 columns]"
      ]
     },
     "execution_count": 4,
     "metadata": {},
     "output_type": "execute_result"
    }
   ],
   "source": [
    "dataset = pd.read_csv('posttestcoba.csv')\n",
    "dataset"
   ]
  },
  {
   "cell_type": "markdown",
   "id": "794e9170-2087-4f90-8a4e-b360d6e30a60",
   "metadata": {},
   "source": [
    "# Bagi dataset menjadi training set dan testing set dengan proporsi 70:30"
   ]
  },
  {
   "cell_type": "code",
   "execution_count": 5,
   "id": "c151ca3a-75ab-4c29-a4e6-25ceca96a71c",
   "metadata": {},
   "outputs": [],
   "source": [
    "X = dataset.iloc[:, :-1]\n",
    "y = dataset.iloc[:, -1]"
   ]
  },
  {
   "cell_type": "code",
   "execution_count": 6,
   "id": "6d880df8-fb08-4a3d-9466-a91ccaabc96a",
   "metadata": {},
   "outputs": [],
   "source": [
    "X_train, X_test, y_train, y_test = train_test_split(X, y, test_size=0.3)"
   ]
  },
  {
   "cell_type": "code",
   "execution_count": 7,
   "id": "e934e365-3d63-4ad1-a2b4-5b815de31cbc",
   "metadata": {},
   "outputs": [
    {
     "name": "stdout",
     "output_type": "stream",
     "text": [
      "Dimensi X_train :  (742, 6)\n",
      "Dimensi X_test :  (319, 6)\n",
      "Dimensi y_train :  (742,)\n",
      "Dimensi y_test :  (319,)\n"
     ]
    }
   ],
   "source": [
    "print(\"Dimensi X_train : \", X_train.shape)\n",
    "print(\"Dimensi X_test : \", X_test.shape)\n",
    "print(\"Dimensi y_train : \", y_train.shape)\n",
    "print(\"Dimensi y_test : \", y_test.shape)"
   ]
  },
  {
   "cell_type": "markdown",
   "id": "ddb4f780-5546-4138-8257-1bc0f8da919d",
   "metadata": {
    "tags": []
   },
   "source": [
    "# Lakukan Data cleaning pada data dengan nilai null"
   ]
  },
  {
   "cell_type": "code",
   "execution_count": 8,
   "id": "1be38d83-7b88-448a-801b-1ad0c7cffdec",
   "metadata": {},
   "outputs": [],
   "source": [
    "df = pd.read_csv(\"rusakcoba.csv\")"
   ]
  },
  {
   "cell_type": "code",
   "execution_count": 9,
   "id": "5ee2015f-926a-411d-831c-8594b41d41e1",
   "metadata": {},
   "outputs": [
    {
     "name": "stdout",
     "output_type": "stream",
     "text": [
      "Jumlah Nilai Null\n"
     ]
    },
    {
     "data": {
      "text/plain": [
       "name                   0\n",
       "selling_price          5\n",
       "year                   0\n",
       "seller_type            0\n",
       "owner                  0\n",
       "km_driven              4\n",
       "ex_showroom_price    440\n",
       "dtype: int64"
      ]
     },
     "execution_count": 9,
     "metadata": {},
     "output_type": "execute_result"
    }
   ],
   "source": [
    "print(\"Jumlah Nilai Null\")\n",
    "df.isna().sum()"
   ]
  },
  {
   "cell_type": "code",
   "execution_count": 10,
   "id": "02c724e8-e7a5-4789-960a-312717e559a3",
   "metadata": {},
   "outputs": [
    {
     "data": {
      "text/html": [
       "<div>\n",
       "<style scoped>\n",
       "    .dataframe tbody tr th:only-of-type {\n",
       "        vertical-align: middle;\n",
       "    }\n",
       "\n",
       "    .dataframe tbody tr th {\n",
       "        vertical-align: top;\n",
       "    }\n",
       "\n",
       "    .dataframe thead th {\n",
       "        text-align: right;\n",
       "    }\n",
       "</style>\n",
       "<table border=\"1\" class=\"dataframe\">\n",
       "  <thead>\n",
       "    <tr style=\"text-align: right;\">\n",
       "      <th></th>\n",
       "      <th>name</th>\n",
       "      <th>selling_price</th>\n",
       "      <th>year</th>\n",
       "      <th>seller_type</th>\n",
       "      <th>owner</th>\n",
       "      <th>km_driven</th>\n",
       "      <th>ex_showroom_price</th>\n",
       "    </tr>\n",
       "  </thead>\n",
       "  <tbody>\n",
       "    <tr>\n",
       "      <th>0</th>\n",
       "      <td>Royal Enfield Classic 350</td>\n",
       "      <td>175000.0</td>\n",
       "      <td>2019</td>\n",
       "      <td>Individual</td>\n",
       "      <td>1st owner</td>\n",
       "      <td>350.0</td>\n",
       "      <td>NaN</td>\n",
       "    </tr>\n",
       "    <tr>\n",
       "      <th>1</th>\n",
       "      <td>Honda Dio</td>\n",
       "      <td>45000.0</td>\n",
       "      <td>2017</td>\n",
       "      <td>Individual</td>\n",
       "      <td>1st owner</td>\n",
       "      <td>5650.0</td>\n",
       "      <td>NaN</td>\n",
       "    </tr>\n",
       "    <tr>\n",
       "      <th>3</th>\n",
       "      <td>Yamaha Fazer FI V 2.0 [2016-2018]</td>\n",
       "      <td>NaN</td>\n",
       "      <td>2015</td>\n",
       "      <td>Individual</td>\n",
       "      <td>1st owner</td>\n",
       "      <td>23000.0</td>\n",
       "      <td>89643.0</td>\n",
       "    </tr>\n",
       "    <tr>\n",
       "      <th>4</th>\n",
       "      <td>Yamaha SZ [2013-2014]</td>\n",
       "      <td>NaN</td>\n",
       "      <td>2011</td>\n",
       "      <td>Individual</td>\n",
       "      <td>2nd owner</td>\n",
       "      <td>21000.0</td>\n",
       "      <td>NaN</td>\n",
       "    </tr>\n",
       "    <tr>\n",
       "      <th>5</th>\n",
       "      <td>Honda CB Twister</td>\n",
       "      <td>NaN</td>\n",
       "      <td>2010</td>\n",
       "      <td>Individual</td>\n",
       "      <td>1st owner</td>\n",
       "      <td>60000.0</td>\n",
       "      <td>53857.0</td>\n",
       "    </tr>\n",
       "    <tr>\n",
       "      <th>...</th>\n",
       "      <td>...</td>\n",
       "      <td>...</td>\n",
       "      <td>...</td>\n",
       "      <td>...</td>\n",
       "      <td>...</td>\n",
       "      <td>...</td>\n",
       "      <td>...</td>\n",
       "    </tr>\n",
       "    <tr>\n",
       "      <th>951</th>\n",
       "      <td>Royal Enfield Electra 5 S</td>\n",
       "      <td>90000.0</td>\n",
       "      <td>2012</td>\n",
       "      <td>Individual</td>\n",
       "      <td>1st owner</td>\n",
       "      <td>40000.0</td>\n",
       "      <td>NaN</td>\n",
       "    </tr>\n",
       "    <tr>\n",
       "      <th>952</th>\n",
       "      <td>Hero Honda Hunk</td>\n",
       "      <td>20000.0</td>\n",
       "      <td>2010</td>\n",
       "      <td>Individual</td>\n",
       "      <td>1st owner</td>\n",
       "      <td>17000.0</td>\n",
       "      <td>NaN</td>\n",
       "    </tr>\n",
       "    <tr>\n",
       "      <th>957</th>\n",
       "      <td>Bajaj Pulsar 220 DTS-i</td>\n",
       "      <td>60000.0</td>\n",
       "      <td>2014</td>\n",
       "      <td>Individual</td>\n",
       "      <td>1st owner</td>\n",
       "      <td>16000.0</td>\n",
       "      <td>NaN</td>\n",
       "    </tr>\n",
       "    <tr>\n",
       "      <th>958</th>\n",
       "      <td>Hero Honda CBZ extreme</td>\n",
       "      <td>40000.0</td>\n",
       "      <td>2009</td>\n",
       "      <td>Individual</td>\n",
       "      <td>1st owner</td>\n",
       "      <td>50000.0</td>\n",
       "      <td>NaN</td>\n",
       "    </tr>\n",
       "    <tr>\n",
       "      <th>959</th>\n",
       "      <td>Hero Honda CBZ extreme</td>\n",
       "      <td>35000.0</td>\n",
       "      <td>2012</td>\n",
       "      <td>Individual</td>\n",
       "      <td>1st owner</td>\n",
       "      <td>60000.0</td>\n",
       "      <td>NaN</td>\n",
       "    </tr>\n",
       "  </tbody>\n",
       "</table>\n",
       "<p>443 rows × 7 columns</p>\n",
       "</div>"
      ],
      "text/plain": [
       "                                  name  selling_price  year seller_type  \\\n",
       "0            Royal Enfield Classic 350       175000.0  2019  Individual   \n",
       "1                            Honda Dio        45000.0  2017  Individual   \n",
       "3    Yamaha Fazer FI V 2.0 [2016-2018]            NaN  2015  Individual   \n",
       "4                Yamaha SZ [2013-2014]            NaN  2011  Individual   \n",
       "5                     Honda CB Twister            NaN  2010  Individual   \n",
       "..                                 ...            ...   ...         ...   \n",
       "951          Royal Enfield Electra 5 S        90000.0  2012  Individual   \n",
       "952                    Hero Honda Hunk        20000.0  2010  Individual   \n",
       "957             Bajaj Pulsar 220 DTS-i        60000.0  2014  Individual   \n",
       "958             Hero Honda CBZ extreme        40000.0  2009  Individual   \n",
       "959             Hero Honda CBZ extreme        35000.0  2012  Individual   \n",
       "\n",
       "         owner  km_driven  ex_showroom_price  \n",
       "0    1st owner      350.0                NaN  \n",
       "1    1st owner     5650.0                NaN  \n",
       "3    1st owner    23000.0            89643.0  \n",
       "4    2nd owner    21000.0                NaN  \n",
       "5    1st owner    60000.0            53857.0  \n",
       "..         ...        ...                ...  \n",
       "951  1st owner    40000.0                NaN  \n",
       "952  1st owner    17000.0                NaN  \n",
       "957  1st owner    16000.0                NaN  \n",
       "958  1st owner    50000.0                NaN  \n",
       "959  1st owner    60000.0                NaN  \n",
       "\n",
       "[443 rows x 7 columns]"
      ]
     },
     "execution_count": 10,
     "metadata": {},
     "output_type": "execute_result"
    }
   ],
   "source": [
    "df[df.isnull().any(axis=1)]"
   ]
  },
  {
   "cell_type": "code",
   "execution_count": 11,
   "id": "65b3a0f4-1a62-490b-96c2-58822bc44dc5",
   "metadata": {},
   "outputs": [],
   "source": [
    "df[['name', 'selling_price', 'year', 'seller_type', 'owner', 'km_driven', 'ex_showroom_price']] = df[['name', 'selling_price', 'year', 'seller_type', 'owner', 'km_driven', 'ex_showroom_price']]"
   ]
  },
  {
   "cell_type": "code",
   "execution_count": 12,
   "id": "0a7a02ed-e59b-4fec-9cb9-a003f58a73fc",
   "metadata": {},
   "outputs": [
    {
     "data": {
      "text/plain": [
       "name                   0\n",
       "selling_price          5\n",
       "year                   0\n",
       "seller_type            0\n",
       "owner                  0\n",
       "km_driven              4\n",
       "ex_showroom_price    440\n",
       "dtype: int64"
      ]
     },
     "execution_count": 12,
     "metadata": {},
     "output_type": "execute_result"
    }
   ],
   "source": [
    "df.isna().sum()"
   ]
  },
  {
   "cell_type": "markdown",
   "id": "38539b92-f9e6-469d-8d91-d1ae713d7883",
   "metadata": {},
   "source": [
    "# Lakukan Data cleaning pada data dengan nilai duplikat"
   ]
  },
  {
   "cell_type": "code",
   "execution_count": 13,
   "id": "345f2bea-b9a8-4668-83b3-ba6a6be5f0eb",
   "metadata": {},
   "outputs": [
    {
     "data": {
      "text/html": [
       "<div>\n",
       "<style scoped>\n",
       "    .dataframe tbody tr th:only-of-type {\n",
       "        vertical-align: middle;\n",
       "    }\n",
       "\n",
       "    .dataframe tbody tr th {\n",
       "        vertical-align: top;\n",
       "    }\n",
       "\n",
       "    .dataframe thead th {\n",
       "        text-align: right;\n",
       "    }\n",
       "</style>\n",
       "<table border=\"1\" class=\"dataframe\">\n",
       "  <thead>\n",
       "    <tr style=\"text-align: right;\">\n",
       "      <th></th>\n",
       "      <th>name</th>\n",
       "      <th>selling_price</th>\n",
       "      <th>year</th>\n",
       "      <th>seller_type</th>\n",
       "      <th>owner</th>\n",
       "      <th>km_driven</th>\n",
       "      <th>ex_showroom_price</th>\n",
       "    </tr>\n",
       "  </thead>\n",
       "  <tbody>\n",
       "    <tr>\n",
       "      <th>0</th>\n",
       "      <td>Royal Enfield Classic 350</td>\n",
       "      <td>175000.0</td>\n",
       "      <td>2019</td>\n",
       "      <td>Individual</td>\n",
       "      <td>1st owner</td>\n",
       "      <td>350.0</td>\n",
       "      <td>NaN</td>\n",
       "    </tr>\n",
       "    <tr>\n",
       "      <th>1</th>\n",
       "      <td>Honda Dio</td>\n",
       "      <td>45000.0</td>\n",
       "      <td>2017</td>\n",
       "      <td>Individual</td>\n",
       "      <td>1st owner</td>\n",
       "      <td>5650.0</td>\n",
       "      <td>NaN</td>\n",
       "    </tr>\n",
       "    <tr>\n",
       "      <th>2</th>\n",
       "      <td>Royal Enfield Classic Gunmetal Grey</td>\n",
       "      <td>150000.0</td>\n",
       "      <td>2018</td>\n",
       "      <td>Individual</td>\n",
       "      <td>1st owner</td>\n",
       "      <td>12000.0</td>\n",
       "      <td>148114.0</td>\n",
       "    </tr>\n",
       "    <tr>\n",
       "      <th>3</th>\n",
       "      <td>Yamaha Fazer FI V 2.0 [2016-2018]</td>\n",
       "      <td>NaN</td>\n",
       "      <td>2015</td>\n",
       "      <td>Individual</td>\n",
       "      <td>1st owner</td>\n",
       "      <td>23000.0</td>\n",
       "      <td>89643.0</td>\n",
       "    </tr>\n",
       "    <tr>\n",
       "      <th>4</th>\n",
       "      <td>Yamaha SZ [2013-2014]</td>\n",
       "      <td>NaN</td>\n",
       "      <td>2011</td>\n",
       "      <td>Individual</td>\n",
       "      <td>2nd owner</td>\n",
       "      <td>21000.0</td>\n",
       "      <td>NaN</td>\n",
       "    </tr>\n",
       "    <tr>\n",
       "      <th>...</th>\n",
       "      <td>...</td>\n",
       "      <td>...</td>\n",
       "      <td>...</td>\n",
       "      <td>...</td>\n",
       "      <td>...</td>\n",
       "      <td>...</td>\n",
       "      <td>...</td>\n",
       "    </tr>\n",
       "    <tr>\n",
       "      <th>1056</th>\n",
       "      <td>Activa 3g</td>\n",
       "      <td>17000.0</td>\n",
       "      <td>2010</td>\n",
       "      <td>Individual</td>\n",
       "      <td>1st owner</td>\n",
       "      <td>500000.0</td>\n",
       "      <td>52000.0</td>\n",
       "    </tr>\n",
       "    <tr>\n",
       "      <th>1057</th>\n",
       "      <td>Honda CB twister</td>\n",
       "      <td>16000.0</td>\n",
       "      <td>2012</td>\n",
       "      <td>Individual</td>\n",
       "      <td>1st owner</td>\n",
       "      <td>33000.0</td>\n",
       "      <td>51000.0</td>\n",
       "    </tr>\n",
       "    <tr>\n",
       "      <th>1058</th>\n",
       "      <td>Bajaj Discover 125</td>\n",
       "      <td>15000.0</td>\n",
       "      <td>2013</td>\n",
       "      <td>Individual</td>\n",
       "      <td>2nd owner</td>\n",
       "      <td>35000.0</td>\n",
       "      <td>57000.0</td>\n",
       "    </tr>\n",
       "    <tr>\n",
       "      <th>1059</th>\n",
       "      <td>Honda CB Shine</td>\n",
       "      <td>12000.0</td>\n",
       "      <td>2009</td>\n",
       "      <td>Individual</td>\n",
       "      <td>1st owner</td>\n",
       "      <td>53000.0</td>\n",
       "      <td>58000.0</td>\n",
       "    </tr>\n",
       "    <tr>\n",
       "      <th>1060</th>\n",
       "      <td>Bajaj Pulsar 150</td>\n",
       "      <td>10000.0</td>\n",
       "      <td>2008</td>\n",
       "      <td>Individual</td>\n",
       "      <td>1st owner</td>\n",
       "      <td>92233.0</td>\n",
       "      <td>75000.0</td>\n",
       "    </tr>\n",
       "  </tbody>\n",
       "</table>\n",
       "<p>1061 rows × 7 columns</p>\n",
       "</div>"
      ],
      "text/plain": [
       "                                     name  selling_price  year seller_type  \\\n",
       "0               Royal Enfield Classic 350       175000.0  2019  Individual   \n",
       "1                               Honda Dio        45000.0  2017  Individual   \n",
       "2     Royal Enfield Classic Gunmetal Grey       150000.0  2018  Individual   \n",
       "3       Yamaha Fazer FI V 2.0 [2016-2018]            NaN  2015  Individual   \n",
       "4                   Yamaha SZ [2013-2014]            NaN  2011  Individual   \n",
       "...                                   ...            ...   ...         ...   \n",
       "1056                            Activa 3g        17000.0  2010  Individual   \n",
       "1057                     Honda CB twister        16000.0  2012  Individual   \n",
       "1058                   Bajaj Discover 125        15000.0  2013  Individual   \n",
       "1059                       Honda CB Shine        12000.0  2009  Individual   \n",
       "1060                     Bajaj Pulsar 150        10000.0  2008  Individual   \n",
       "\n",
       "          owner  km_driven  ex_showroom_price  \n",
       "0     1st owner      350.0                NaN  \n",
       "1     1st owner     5650.0                NaN  \n",
       "2     1st owner    12000.0           148114.0  \n",
       "3     1st owner    23000.0            89643.0  \n",
       "4     2nd owner    21000.0                NaN  \n",
       "...         ...        ...                ...  \n",
       "1056  1st owner   500000.0            52000.0  \n",
       "1057  1st owner    33000.0            51000.0  \n",
       "1058  2nd owner    35000.0            57000.0  \n",
       "1059  1st owner    53000.0            58000.0  \n",
       "1060  1st owner    92233.0            75000.0  \n",
       "\n",
       "[1061 rows x 7 columns]"
      ]
     },
     "execution_count": 13,
     "metadata": {},
     "output_type": "execute_result"
    }
   ],
   "source": [
    "df = pd.read_csv(\"rusakcoba.csv\")\n",
    "df"
   ]
  },
  {
   "cell_type": "code",
   "execution_count": 14,
   "id": "0bdc3569-c626-4651-85c5-8f3dd76d67cd",
   "metadata": {},
   "outputs": [
    {
     "data": {
      "text/html": [
       "<div>\n",
       "<style scoped>\n",
       "    .dataframe tbody tr th:only-of-type {\n",
       "        vertical-align: middle;\n",
       "    }\n",
       "\n",
       "    .dataframe tbody tr th {\n",
       "        vertical-align: top;\n",
       "    }\n",
       "\n",
       "    .dataframe thead th {\n",
       "        text-align: right;\n",
       "    }\n",
       "</style>\n",
       "<table border=\"1\" class=\"dataframe\">\n",
       "  <thead>\n",
       "    <tr style=\"text-align: right;\">\n",
       "      <th></th>\n",
       "      <th>name</th>\n",
       "      <th>selling_price</th>\n",
       "      <th>year</th>\n",
       "      <th>seller_type</th>\n",
       "      <th>owner</th>\n",
       "      <th>km_driven</th>\n",
       "      <th>ex_showroom_price</th>\n",
       "    </tr>\n",
       "  </thead>\n",
       "  <tbody>\n",
       "    <tr>\n",
       "      <th>231</th>\n",
       "      <td>TVS Apache RTR 200 4V</td>\n",
       "      <td>95000.0</td>\n",
       "      <td>2018</td>\n",
       "      <td>Individual</td>\n",
       "      <td>1st owner</td>\n",
       "      <td>9600.0</td>\n",
       "      <td>NaN</td>\n",
       "    </tr>\n",
       "    <tr>\n",
       "      <th>508</th>\n",
       "      <td>Bajaj Pulsar 135 LS</td>\n",
       "      <td>20000.0</td>\n",
       "      <td>2010</td>\n",
       "      <td>Individual</td>\n",
       "      <td>1st owner</td>\n",
       "      <td>80000.0</td>\n",
       "      <td>64589.0</td>\n",
       "    </tr>\n",
       "    <tr>\n",
       "      <th>522</th>\n",
       "      <td>Bajaj Platina 100</td>\n",
       "      <td>20000.0</td>\n",
       "      <td>2012</td>\n",
       "      <td>Individual</td>\n",
       "      <td>1st owner</td>\n",
       "      <td>16295.0</td>\n",
       "      <td>NaN</td>\n",
       "    </tr>\n",
       "    <tr>\n",
       "      <th>605</th>\n",
       "      <td>Hero Karizma [2003-2014]</td>\n",
       "      <td>50000.0</td>\n",
       "      <td>2013</td>\n",
       "      <td>Individual</td>\n",
       "      <td>1st owner</td>\n",
       "      <td>38000.0</td>\n",
       "      <td>85766.0</td>\n",
       "    </tr>\n",
       "    <tr>\n",
       "      <th>607</th>\n",
       "      <td>Honda CB Hornet 160R</td>\n",
       "      <td>70000.0</td>\n",
       "      <td>2017</td>\n",
       "      <td>Individual</td>\n",
       "      <td>1st owner</td>\n",
       "      <td>35000.0</td>\n",
       "      <td>87719.0</td>\n",
       "    </tr>\n",
       "    <tr>\n",
       "      <th>773</th>\n",
       "      <td>Honda Activa [2000-2015]</td>\n",
       "      <td>23000.0</td>\n",
       "      <td>2009</td>\n",
       "      <td>Individual</td>\n",
       "      <td>1st owner</td>\n",
       "      <td>95000.0</td>\n",
       "      <td>50267.0</td>\n",
       "    </tr>\n",
       "  </tbody>\n",
       "</table>\n",
       "</div>"
      ],
      "text/plain": [
       "                         name  selling_price  year seller_type      owner  \\\n",
       "231     TVS Apache RTR 200 4V        95000.0  2018  Individual  1st owner   \n",
       "508       Bajaj Pulsar 135 LS        20000.0  2010  Individual  1st owner   \n",
       "522         Bajaj Platina 100        20000.0  2012  Individual  1st owner   \n",
       "605  Hero Karizma [2003-2014]        50000.0  2013  Individual  1st owner   \n",
       "607      Honda CB Hornet 160R        70000.0  2017  Individual  1st owner   \n",
       "773  Honda Activa [2000-2015]        23000.0  2009  Individual  1st owner   \n",
       "\n",
       "     km_driven  ex_showroom_price  \n",
       "231     9600.0                NaN  \n",
       "508    80000.0            64589.0  \n",
       "522    16295.0                NaN  \n",
       "605    38000.0            85766.0  \n",
       "607    35000.0            87719.0  \n",
       "773    95000.0            50267.0  "
      ]
     },
     "execution_count": 14,
     "metadata": {},
     "output_type": "execute_result"
    }
   ],
   "source": [
    "df[df.duplicated()]"
   ]
  },
  {
   "cell_type": "code",
   "execution_count": 15,
   "id": "dd2cfcde-9989-4de7-8230-d2dfd0cf4994",
   "metadata": {},
   "outputs": [],
   "source": [
    "df.drop_duplicates(inplace=True)"
   ]
  },
  {
   "cell_type": "code",
   "execution_count": 16,
   "id": "83855324-b501-46fb-a13e-56846e651fea",
   "metadata": {},
   "outputs": [
    {
     "data": {
      "text/html": [
       "<div>\n",
       "<style scoped>\n",
       "    .dataframe tbody tr th:only-of-type {\n",
       "        vertical-align: middle;\n",
       "    }\n",
       "\n",
       "    .dataframe tbody tr th {\n",
       "        vertical-align: top;\n",
       "    }\n",
       "\n",
       "    .dataframe thead th {\n",
       "        text-align: right;\n",
       "    }\n",
       "</style>\n",
       "<table border=\"1\" class=\"dataframe\">\n",
       "  <thead>\n",
       "    <tr style=\"text-align: right;\">\n",
       "      <th></th>\n",
       "      <th>name</th>\n",
       "      <th>selling_price</th>\n",
       "      <th>year</th>\n",
       "      <th>seller_type</th>\n",
       "      <th>owner</th>\n",
       "      <th>km_driven</th>\n",
       "      <th>ex_showroom_price</th>\n",
       "    </tr>\n",
       "  </thead>\n",
       "  <tbody>\n",
       "  </tbody>\n",
       "</table>\n",
       "</div>"
      ],
      "text/plain": [
       "Empty DataFrame\n",
       "Columns: [name, selling_price, year, seller_type, owner, km_driven, ex_showroom_price]\n",
       "Index: []"
      ]
     },
     "execution_count": 16,
     "metadata": {},
     "output_type": "execute_result"
    }
   ],
   "source": [
    "df[df.duplicated()]"
   ]
  },
  {
   "cell_type": "markdown",
   "id": "a643397a-eddc-40b8-bdcd-5cceabbfa7e3",
   "metadata": {},
   "source": [
    "# Lakukan normalisasi data pada salah satu attribute menggunakan Min Max scaler "
   ]
  },
  {
   "cell_type": "code",
   "execution_count": 17,
   "id": "58817d3b-ddca-47b9-9767-d4b4b60b2e6f",
   "metadata": {},
   "outputs": [],
   "source": [
    "dataset.to_csv('cobaa.csv')"
   ]
  },
  {
   "cell_type": "code",
   "execution_count": 18,
   "id": "c52df42e-cc10-446c-be8f-f5b657d4fda6",
   "metadata": {},
   "outputs": [
    {
     "data": {
      "text/html": [
       "<div>\n",
       "<style scoped>\n",
       "    .dataframe tbody tr th:only-of-type {\n",
       "        vertical-align: middle;\n",
       "    }\n",
       "\n",
       "    .dataframe tbody tr th {\n",
       "        vertical-align: top;\n",
       "    }\n",
       "\n",
       "    .dataframe thead th {\n",
       "        text-align: right;\n",
       "    }\n",
       "</style>\n",
       "<table border=\"1\" class=\"dataframe\">\n",
       "  <thead>\n",
       "    <tr style=\"text-align: right;\">\n",
       "      <th></th>\n",
       "      <th>Unnamed: 0</th>\n",
       "      <th>name</th>\n",
       "      <th>selling_price</th>\n",
       "      <th>year</th>\n",
       "      <th>seller_type</th>\n",
       "      <th>owner</th>\n",
       "      <th>km_driven</th>\n",
       "      <th>ex_showroom_price</th>\n",
       "    </tr>\n",
       "  </thead>\n",
       "  <tbody>\n",
       "    <tr>\n",
       "      <th>0</th>\n",
       "      <td>0</td>\n",
       "      <td>Royal Enfield Classic 350</td>\n",
       "      <td>175000</td>\n",
       "      <td>2019</td>\n",
       "      <td>Individual</td>\n",
       "      <td>1st owner</td>\n",
       "      <td>350</td>\n",
       "      <td>NaN</td>\n",
       "    </tr>\n",
       "    <tr>\n",
       "      <th>1</th>\n",
       "      <td>1</td>\n",
       "      <td>Honda Dio</td>\n",
       "      <td>45000</td>\n",
       "      <td>2017</td>\n",
       "      <td>Individual</td>\n",
       "      <td>1st owner</td>\n",
       "      <td>5650</td>\n",
       "      <td>NaN</td>\n",
       "    </tr>\n",
       "    <tr>\n",
       "      <th>2</th>\n",
       "      <td>2</td>\n",
       "      <td>Royal Enfield Classic Gunmetal Grey</td>\n",
       "      <td>150000</td>\n",
       "      <td>2018</td>\n",
       "      <td>Individual</td>\n",
       "      <td>1st owner</td>\n",
       "      <td>12000</td>\n",
       "      <td>148114.0</td>\n",
       "    </tr>\n",
       "    <tr>\n",
       "      <th>3</th>\n",
       "      <td>3</td>\n",
       "      <td>Yamaha Fazer FI V 2.0 [2016-2018]</td>\n",
       "      <td>65000</td>\n",
       "      <td>2015</td>\n",
       "      <td>Individual</td>\n",
       "      <td>1st owner</td>\n",
       "      <td>23000</td>\n",
       "      <td>89643.0</td>\n",
       "    </tr>\n",
       "    <tr>\n",
       "      <th>4</th>\n",
       "      <td>4</td>\n",
       "      <td>Yamaha SZ [2013-2014]</td>\n",
       "      <td>20000</td>\n",
       "      <td>2011</td>\n",
       "      <td>Individual</td>\n",
       "      <td>2nd owner</td>\n",
       "      <td>21000</td>\n",
       "      <td>NaN</td>\n",
       "    </tr>\n",
       "  </tbody>\n",
       "</table>\n",
       "</div>"
      ],
      "text/plain": [
       "   Unnamed: 0                                 name  selling_price  year  \\\n",
       "0           0            Royal Enfield Classic 350         175000  2019   \n",
       "1           1                            Honda Dio          45000  2017   \n",
       "2           2  Royal Enfield Classic Gunmetal Grey         150000  2018   \n",
       "3           3    Yamaha Fazer FI V 2.0 [2016-2018]          65000  2015   \n",
       "4           4                Yamaha SZ [2013-2014]          20000  2011   \n",
       "\n",
       "  seller_type      owner  km_driven  ex_showroom_price  \n",
       "0  Individual  1st owner        350                NaN  \n",
       "1  Individual  1st owner       5650                NaN  \n",
       "2  Individual  1st owner      12000           148114.0  \n",
       "3  Individual  1st owner      23000            89643.0  \n",
       "4  Individual  2nd owner      21000                NaN  "
      ]
     },
     "execution_count": 18,
     "metadata": {},
     "output_type": "execute_result"
    }
   ],
   "source": [
    "dataset_normalisasi = pd.read_csv('cobaa.csv')\n",
    "dataset_normalisasi.head()"
   ]
  },
  {
   "cell_type": "code",
   "execution_count": 19,
   "id": "30421466-130d-4be6-828c-1d2be7fd58c3",
   "metadata": {},
   "outputs": [],
   "source": [
    "from sklearn.preprocessing import MinMaxScaler"
   ]
  },
  {
   "cell_type": "code",
   "execution_count": 20,
   "id": "66aa283e-c9a4-4817-bae7-24d90f42c376",
   "metadata": {},
   "outputs": [],
   "source": [
    "min_max_scaler = MinMaxScaler()"
   ]
  },
  {
   "cell_type": "code",
   "execution_count": 21,
   "id": "5130400f-1f60-41f0-acdc-4b19ca2698ae",
   "metadata": {},
   "outputs": [],
   "source": [
    "x_norm = min_max_scaler.fit_transform(\n",
    "    dataset_normalisasi[['selling_price', 'year', 'km_driven', 'Unnamed: 0']]\n",
    ")"
   ]
  },
  {
   "cell_type": "code",
   "execution_count": 22,
   "id": "048f2701-0412-47f9-a1ef-b4a95ea5d8b9",
   "metadata": {},
   "outputs": [],
   "source": [
    "data_normalisasi = pd.DataFrame(x_norm)"
   ]
  },
  {
   "cell_type": "code",
   "execution_count": 23,
   "id": "bd6384bd-927a-4957-9296-e8b79610b1d7",
   "metadata": {},
   "outputs": [
    {
     "data": {
      "text/html": [
       "<div>\n",
       "<style scoped>\n",
       "    .dataframe tbody tr th:only-of-type {\n",
       "        vertical-align: middle;\n",
       "    }\n",
       "\n",
       "    .dataframe tbody tr th {\n",
       "        vertical-align: top;\n",
       "    }\n",
       "\n",
       "    .dataframe thead th {\n",
       "        text-align: right;\n",
       "    }\n",
       "</style>\n",
       "<table border=\"1\" class=\"dataframe\">\n",
       "  <thead>\n",
       "    <tr style=\"text-align: right;\">\n",
       "      <th></th>\n",
       "      <th>0</th>\n",
       "      <th>1</th>\n",
       "      <th>2</th>\n",
       "      <th>3</th>\n",
       "    </tr>\n",
       "  </thead>\n",
       "  <tbody>\n",
       "    <tr>\n",
       "      <th>0</th>\n",
       "      <td>0.225166</td>\n",
       "      <td>0.96875</td>\n",
       "      <td>0.000000</td>\n",
       "      <td>0.000000</td>\n",
       "    </tr>\n",
       "    <tr>\n",
       "      <th>1</th>\n",
       "      <td>0.052980</td>\n",
       "      <td>0.90625</td>\n",
       "      <td>0.006025</td>\n",
       "      <td>0.000943</td>\n",
       "    </tr>\n",
       "    <tr>\n",
       "      <th>2</th>\n",
       "      <td>0.192053</td>\n",
       "      <td>0.93750</td>\n",
       "      <td>0.013244</td>\n",
       "      <td>0.001887</td>\n",
       "    </tr>\n",
       "    <tr>\n",
       "      <th>3</th>\n",
       "      <td>0.079470</td>\n",
       "      <td>0.84375</td>\n",
       "      <td>0.025749</td>\n",
       "      <td>0.002830</td>\n",
       "    </tr>\n",
       "    <tr>\n",
       "      <th>4</th>\n",
       "      <td>0.019868</td>\n",
       "      <td>0.71875</td>\n",
       "      <td>0.023475</td>\n",
       "      <td>0.003774</td>\n",
       "    </tr>\n",
       "  </tbody>\n",
       "</table>\n",
       "</div>"
      ],
      "text/plain": [
       "          0        1         2         3\n",
       "0  0.225166  0.96875  0.000000  0.000000\n",
       "1  0.052980  0.90625  0.006025  0.000943\n",
       "2  0.192053  0.93750  0.013244  0.001887\n",
       "3  0.079470  0.84375  0.025749  0.002830\n",
       "4  0.019868  0.71875  0.023475  0.003774"
      ]
     },
     "execution_count": 23,
     "metadata": {},
     "output_type": "execute_result"
    }
   ],
   "source": [
    "data_normalisasi.head()"
   ]
  },
  {
   "cell_type": "markdown",
   "id": "e80a1c31-9681-40a1-8584-4d3e4d573b14",
   "metadata": {},
   "source": [
    "# Lakukan standarisasi pada dataset"
   ]
  },
  {
   "cell_type": "code",
   "execution_count": 24,
   "id": "56a11b4e-0a7d-4a83-9160-f66bef186bbc",
   "metadata": {},
   "outputs": [],
   "source": [
    "dataset.to_csv('cobaa.csv')"
   ]
  },
  {
   "cell_type": "code",
   "execution_count": 25,
   "id": "05d38dec-56e8-4a1f-a69c-ca4006eb0197",
   "metadata": {},
   "outputs": [],
   "source": [
    "dataset.to_csv(\"cobaa.csv\")"
   ]
  },
  {
   "cell_type": "code",
   "execution_count": 29,
   "id": "9b44f0c5-db8d-431a-822b-9898212e9bc9",
   "metadata": {},
   "outputs": [
    {
     "name": "stdout",
     "output_type": "stream",
     "text": [
      "Nilai Standar Deviasi Sebelum Distandarisasi: \n"
     ]
    },
    {
     "data": {
      "text/plain": [
       "selling_price        56277.752121\n",
       "year                     4.299164\n",
       "km_driven            51598.819373\n",
       "ex_showroom_price    77434.664217\n",
       "dtype: float64"
      ]
     },
     "execution_count": 29,
     "metadata": {},
     "output_type": "execute_result"
    }
   ],
   "source": [
    "print(\"Nilai Standar Deviasi Sebelum Distandarisasi: \")\n",
    "np.std(dataset)"
   ]
  },
  {
   "cell_type": "code",
   "execution_count": 32,
   "id": "5162d404-44e4-4ed1-a0fc-06dd1671def0",
   "metadata": {},
   "outputs": [],
   "source": [
    "from sklearn.preprocessing import StandardScaler"
   ]
  },
  {
   "cell_type": "code",
   "execution_count": 34,
   "id": "e46ffab5-20aa-429f-9efd-8f90323eb605",
   "metadata": {},
   "outputs": [],
   "source": [
    "standard_scaler = StandardScaler()"
   ]
  },
  {
   "cell_type": "code",
   "execution_count": 45,
   "id": "4baf8a63-9ff6-415b-a3be-eb44259aff3b",
   "metadata": {},
   "outputs": [],
   "source": [
    "x_standard = standard_scaler.fit_transform(\n",
    "    dataset[['selling_price', 'year', 'km_driven']]\n",
    ")"
   ]
  },
  {
   "cell_type": "code",
   "execution_count": 46,
   "id": "65db45d0-c9ee-4b16-8cb3-b92d3aa3b1bd",
   "metadata": {},
   "outputs": [
    {
     "name": "stdout",
     "output_type": "stream",
     "text": [
      "Nilai Sesudah Distandarisasi: \n"
     ]
    },
    {
     "data": {
      "text/plain": [
       "1.0"
      ]
     },
     "execution_count": 46,
     "metadata": {},
     "output_type": "execute_result"
    }
   ],
   "source": [
    "print(\"Nilai Sesudah Distandarisasi: \")\n",
    "np.std(x_standard)"
   ]
  },
  {
   "cell_type": "code",
   "execution_count": 47,
   "id": "a608adb4-ebcc-49e5-946c-a1f122df0d4b",
   "metadata": {},
   "outputs": [
    {
     "data": {
      "text/plain": [
       "-4.133671099414909e-15"
      ]
     },
     "execution_count": 47,
     "metadata": {},
     "output_type": "execute_result"
    }
   ],
   "source": [
    "np.mean(x_standard)"
   ]
  },
  {
   "cell_type": "code",
   "execution_count": 48,
   "id": "c2bef9cb-90e5-4f56-ba93-adbf7561efa3",
   "metadata": {},
   "outputs": [],
   "source": [
    "data_standarisasi = pd.DataFrame(x_standard)"
   ]
  },
  {
   "cell_type": "code",
   "execution_count": 49,
   "id": "1e9d80fd-8f61-4c48-98b6-c80217ad4d26",
   "metadata": {},
   "outputs": [
    {
     "data": {
      "text/html": [
       "<div>\n",
       "<style scoped>\n",
       "    .dataframe tbody tr th:only-of-type {\n",
       "        vertical-align: middle;\n",
       "    }\n",
       "\n",
       "    .dataframe tbody tr th {\n",
       "        vertical-align: top;\n",
       "    }\n",
       "\n",
       "    .dataframe thead th {\n",
       "        text-align: right;\n",
       "    }\n",
       "</style>\n",
       "<table border=\"1\" class=\"dataframe\">\n",
       "  <thead>\n",
       "    <tr style=\"text-align: right;\">\n",
       "      <th></th>\n",
       "      <th>0</th>\n",
       "      <th>1</th>\n",
       "      <th>2</th>\n",
       "    </tr>\n",
       "  </thead>\n",
       "  <tbody>\n",
       "    <tr>\n",
       "      <th>0</th>\n",
       "      <td>2.049866</td>\n",
       "      <td>1.193928</td>\n",
       "      <td>-0.659120</td>\n",
       "    </tr>\n",
       "    <tr>\n",
       "      <th>1</th>\n",
       "      <td>-0.260105</td>\n",
       "      <td>0.728722</td>\n",
       "      <td>-0.556405</td>\n",
       "    </tr>\n",
       "    <tr>\n",
       "      <th>2</th>\n",
       "      <td>1.605641</td>\n",
       "      <td>0.961325</td>\n",
       "      <td>-0.433340</td>\n",
       "    </tr>\n",
       "    <tr>\n",
       "      <th>3</th>\n",
       "      <td>0.095275</td>\n",
       "      <td>0.263515</td>\n",
       "      <td>-0.220157</td>\n",
       "    </tr>\n",
       "    <tr>\n",
       "      <th>4</th>\n",
       "      <td>-0.704331</td>\n",
       "      <td>-0.666899</td>\n",
       "      <td>-0.258917</td>\n",
       "    </tr>\n",
       "  </tbody>\n",
       "</table>\n",
       "</div>"
      ],
      "text/plain": [
       "          0         1         2\n",
       "0  2.049866  1.193928 -0.659120\n",
       "1 -0.260105  0.728722 -0.556405\n",
       "2  1.605641  0.961325 -0.433340\n",
       "3  0.095275  0.263515 -0.220157\n",
       "4 -0.704331 -0.666899 -0.258917"
      ]
     },
     "execution_count": 49,
     "metadata": {},
     "output_type": "execute_result"
    }
   ],
   "source": [
    "data_standarisasi.head()"
   ]
  },
  {
   "cell_type": "markdown",
   "id": "cbee5936-044d-4b6d-a459-7f43fd43e528",
   "metadata": {},
   "source": [
    "# Ganti tipe data salah satu attribute angka"
   ]
  },
  {
   "cell_type": "code",
   "execution_count": 51,
   "id": "06bb7b81-bee0-4dff-a8c5-14ee4d9f8e58",
   "metadata": {},
   "outputs": [
    {
     "data": {
      "text/plain": [
       "name                  object\n",
       "selling_price        float64\n",
       "year                  object\n",
       "seller_type           object\n",
       "owner                 object\n",
       "km_driven            float64\n",
       "ex_showroom_price    float64\n",
       "dtype: object"
      ]
     },
     "execution_count": 51,
     "metadata": {},
     "output_type": "execute_result"
    }
   ],
   "source": [
    "df.dtypes"
   ]
  },
  {
   "cell_type": "code",
   "execution_count": 53,
   "id": "9ee08916-72ed-4031-b052-1529e0763d81",
   "metadata": {},
   "outputs": [],
   "source": [
    "df['selling_price'] = df['selling_price'].astype(object)"
   ]
  },
  {
   "cell_type": "code",
   "execution_count": 54,
   "id": "7db73d51-8171-4042-bad0-9080bdfdf423",
   "metadata": {},
   "outputs": [
    {
     "data": {
      "text/plain": [
       "name                  object\n",
       "selling_price         object\n",
       "year                  object\n",
       "seller_type           object\n",
       "owner                 object\n",
       "km_driven            float64\n",
       "ex_showroom_price    float64\n",
       "dtype: object"
      ]
     },
     "execution_count": 54,
     "metadata": {},
     "output_type": "execute_result"
    }
   ],
   "source": [
    "df.dtypes"
   ]
  },
  {
   "cell_type": "markdown",
   "id": "40083b4c-fd9d-48a0-b9fe-5cd69799690d",
   "metadata": {},
   "source": [
    "# Lakukan one hot encoding pada dataset yang kalian miliki"
   ]
  },
  {
   "cell_type": "code",
   "execution_count": 55,
   "id": "d950b838-411c-4a16-b8b9-919beba69d87",
   "metadata": {},
   "outputs": [],
   "source": [
    "from sklearn.preprocessing import OneHotEncoder"
   ]
  },
  {
   "cell_type": "code",
   "execution_count": 56,
   "id": "8227bf7e-5840-4aec-bf82-9a9de803f7d3",
   "metadata": {},
   "outputs": [],
   "source": [
    "encoder = OneHotEncoder(sparse=False)"
   ]
  },
  {
   "cell_type": "code",
   "execution_count": 58,
   "id": "9fd5584e-3db0-4d21-8aa3-6f6b1011abff",
   "metadata": {},
   "outputs": [],
   "source": [
    "encoded = encoder.fit_transform(df[['km_driven']])"
   ]
  },
  {
   "cell_type": "code",
   "execution_count": 60,
   "id": "2162e74d-75bb-4df5-a601-20a9ab055586",
   "metadata": {},
   "outputs": [],
   "source": [
    "df_onehot = pd.DataFrame(encoded)"
   ]
  },
  {
   "cell_type": "code",
   "execution_count": 62,
   "id": "5899ffa0-6370-4456-83be-12228d85ede9",
   "metadata": {},
   "outputs": [],
   "source": [
    "df = df.join(df_onehot)"
   ]
  },
  {
   "cell_type": "code",
   "execution_count": 63,
   "id": "303f7b89-b50f-4fd0-9acf-04bd54c56a83",
   "metadata": {},
   "outputs": [
    {
     "data": {
      "text/html": [
       "<div>\n",
       "<style scoped>\n",
       "    .dataframe tbody tr th:only-of-type {\n",
       "        vertical-align: middle;\n",
       "    }\n",
       "\n",
       "    .dataframe tbody tr th {\n",
       "        vertical-align: top;\n",
       "    }\n",
       "\n",
       "    .dataframe thead th {\n",
       "        text-align: right;\n",
       "    }\n",
       "</style>\n",
       "<table border=\"1\" class=\"dataframe\">\n",
       "  <thead>\n",
       "    <tr style=\"text-align: right;\">\n",
       "      <th></th>\n",
       "      <th>name</th>\n",
       "      <th>selling_price</th>\n",
       "      <th>year</th>\n",
       "      <th>seller_type</th>\n",
       "      <th>owner</th>\n",
       "      <th>km_driven</th>\n",
       "      <th>ex_showroom_price</th>\n",
       "      <th>0</th>\n",
       "      <th>1</th>\n",
       "      <th>2</th>\n",
       "      <th>...</th>\n",
       "      <th>296</th>\n",
       "      <th>297</th>\n",
       "      <th>298</th>\n",
       "      <th>299</th>\n",
       "      <th>300</th>\n",
       "      <th>301</th>\n",
       "      <th>302</th>\n",
       "      <th>303</th>\n",
       "      <th>304</th>\n",
       "      <th>305</th>\n",
       "    </tr>\n",
       "  </thead>\n",
       "  <tbody>\n",
       "    <tr>\n",
       "      <th>0</th>\n",
       "      <td>Royal Enfield Classic 350</td>\n",
       "      <td>175000.0</td>\n",
       "      <td>2019</td>\n",
       "      <td>Individual</td>\n",
       "      <td>1st owner</td>\n",
       "      <td>350.0</td>\n",
       "      <td>NaN</td>\n",
       "      <td>1.0</td>\n",
       "      <td>0.0</td>\n",
       "      <td>0.0</td>\n",
       "      <td>...</td>\n",
       "      <td>0.0</td>\n",
       "      <td>0.0</td>\n",
       "      <td>0.0</td>\n",
       "      <td>0.0</td>\n",
       "      <td>0.0</td>\n",
       "      <td>0.0</td>\n",
       "      <td>0.0</td>\n",
       "      <td>0.0</td>\n",
       "      <td>0.0</td>\n",
       "      <td>0.0</td>\n",
       "    </tr>\n",
       "    <tr>\n",
       "      <th>1</th>\n",
       "      <td>Honda Dio</td>\n",
       "      <td>45000.0</td>\n",
       "      <td>2017</td>\n",
       "      <td>Individual</td>\n",
       "      <td>1st owner</td>\n",
       "      <td>5650.0</td>\n",
       "      <td>NaN</td>\n",
       "      <td>0.0</td>\n",
       "      <td>0.0</td>\n",
       "      <td>0.0</td>\n",
       "      <td>...</td>\n",
       "      <td>0.0</td>\n",
       "      <td>0.0</td>\n",
       "      <td>0.0</td>\n",
       "      <td>0.0</td>\n",
       "      <td>0.0</td>\n",
       "      <td>0.0</td>\n",
       "      <td>0.0</td>\n",
       "      <td>0.0</td>\n",
       "      <td>0.0</td>\n",
       "      <td>0.0</td>\n",
       "    </tr>\n",
       "    <tr>\n",
       "      <th>2</th>\n",
       "      <td>Royal Enfield Classic Gunmetal Grey</td>\n",
       "      <td>150000.0</td>\n",
       "      <td>2018</td>\n",
       "      <td>Individual</td>\n",
       "      <td>1st owner</td>\n",
       "      <td>12000.0</td>\n",
       "      <td>148114.0</td>\n",
       "      <td>0.0</td>\n",
       "      <td>0.0</td>\n",
       "      <td>0.0</td>\n",
       "      <td>...</td>\n",
       "      <td>0.0</td>\n",
       "      <td>0.0</td>\n",
       "      <td>0.0</td>\n",
       "      <td>0.0</td>\n",
       "      <td>0.0</td>\n",
       "      <td>0.0</td>\n",
       "      <td>0.0</td>\n",
       "      <td>0.0</td>\n",
       "      <td>0.0</td>\n",
       "      <td>0.0</td>\n",
       "    </tr>\n",
       "    <tr>\n",
       "      <th>3</th>\n",
       "      <td>Yamaha Fazer FI V 2.0 [2016-2018]</td>\n",
       "      <td>NaN</td>\n",
       "      <td>2015</td>\n",
       "      <td>Individual</td>\n",
       "      <td>1st owner</td>\n",
       "      <td>23000.0</td>\n",
       "      <td>89643.0</td>\n",
       "      <td>0.0</td>\n",
       "      <td>0.0</td>\n",
       "      <td>0.0</td>\n",
       "      <td>...</td>\n",
       "      <td>0.0</td>\n",
       "      <td>0.0</td>\n",
       "      <td>0.0</td>\n",
       "      <td>0.0</td>\n",
       "      <td>0.0</td>\n",
       "      <td>0.0</td>\n",
       "      <td>0.0</td>\n",
       "      <td>0.0</td>\n",
       "      <td>0.0</td>\n",
       "      <td>0.0</td>\n",
       "    </tr>\n",
       "    <tr>\n",
       "      <th>4</th>\n",
       "      <td>Yamaha SZ [2013-2014]</td>\n",
       "      <td>NaN</td>\n",
       "      <td>2011</td>\n",
       "      <td>Individual</td>\n",
       "      <td>2nd owner</td>\n",
       "      <td>21000.0</td>\n",
       "      <td>NaN</td>\n",
       "      <td>0.0</td>\n",
       "      <td>0.0</td>\n",
       "      <td>0.0</td>\n",
       "      <td>...</td>\n",
       "      <td>0.0</td>\n",
       "      <td>0.0</td>\n",
       "      <td>0.0</td>\n",
       "      <td>0.0</td>\n",
       "      <td>0.0</td>\n",
       "      <td>0.0</td>\n",
       "      <td>0.0</td>\n",
       "      <td>0.0</td>\n",
       "      <td>0.0</td>\n",
       "      <td>0.0</td>\n",
       "    </tr>\n",
       "  </tbody>\n",
       "</table>\n",
       "<p>5 rows × 313 columns</p>\n",
       "</div>"
      ],
      "text/plain": [
       "                                  name selling_price  year seller_type  \\\n",
       "0            Royal Enfield Classic 350      175000.0  2019  Individual   \n",
       "1                            Honda Dio       45000.0  2017  Individual   \n",
       "2  Royal Enfield Classic Gunmetal Grey      150000.0  2018  Individual   \n",
       "3    Yamaha Fazer FI V 2.0 [2016-2018]           NaN  2015  Individual   \n",
       "4                Yamaha SZ [2013-2014]           NaN  2011  Individual   \n",
       "\n",
       "       owner  km_driven  ex_showroom_price    0    1    2  ...  296  297  298  \\\n",
       "0  1st owner      350.0                NaN  1.0  0.0  0.0  ...  0.0  0.0  0.0   \n",
       "1  1st owner     5650.0                NaN  0.0  0.0  0.0  ...  0.0  0.0  0.0   \n",
       "2  1st owner    12000.0           148114.0  0.0  0.0  0.0  ...  0.0  0.0  0.0   \n",
       "3  1st owner    23000.0            89643.0  0.0  0.0  0.0  ...  0.0  0.0  0.0   \n",
       "4  2nd owner    21000.0                NaN  0.0  0.0  0.0  ...  0.0  0.0  0.0   \n",
       "\n",
       "   299  300  301  302  303  304  305  \n",
       "0  0.0  0.0  0.0  0.0  0.0  0.0  0.0  \n",
       "1  0.0  0.0  0.0  0.0  0.0  0.0  0.0  \n",
       "2  0.0  0.0  0.0  0.0  0.0  0.0  0.0  \n",
       "3  0.0  0.0  0.0  0.0  0.0  0.0  0.0  \n",
       "4  0.0  0.0  0.0  0.0  0.0  0.0  0.0  \n",
       "\n",
       "[5 rows x 313 columns]"
      ]
     },
     "execution_count": 63,
     "metadata": {},
     "output_type": "execute_result"
    }
   ],
   "source": [
    "df.head()"
   ]
  }
 ],
 "metadata": {
  "kernelspec": {
   "display_name": "Python 3 (ipykernel)",
   "language": "python",
   "name": "python3"
  },
  "language_info": {
   "codemirror_mode": {
    "name": "ipython",
    "version": 3
   },
   "file_extension": ".py",
   "mimetype": "text/x-python",
   "name": "python",
   "nbconvert_exporter": "python",
   "pygments_lexer": "ipython3",
   "version": "3.10.7"
  }
 },
 "nbformat": 4,
 "nbformat_minor": 5
}
