{
 "cells": [
  {
   "cell_type": "markdown",
   "id": "e50b7b7a-2010-4281-8ff9-f472a286e617",
   "metadata": {},
   "source": [
    "# Mengimport Library Tensorflow"
   ]
  },
  {
   "cell_type": "code",
   "execution_count": 1,
   "id": "d43e04e7-abae-40a9-a785-520781e77ef9",
   "metadata": {},
   "outputs": [],
   "source": [
    "import tensorflow as tf"
   ]
  },
  {
   "cell_type": "markdown",
   "id": "349ea1f3-1ba9-438b-9018-894471c67b86",
   "metadata": {},
   "source": [
    "# Buatlah sebuah tensor dengan shape(5,5) dengan nilai random yang disimpan dalam variable random_tensor."
   ]
  },
  {
   "cell_type": "code",
   "execution_count": 2,
   "id": "dfc35319-576f-443c-8010-88ce622057ef",
   "metadata": {},
   "outputs": [
    {
     "data": {
      "text/plain": [
       "array([[-0.18888348, -1.3099947 , -0.22915761, -1.0444322 ,  0.42393595],\n",
       "       [-0.5939381 ,  0.86279285, -1.0360916 ,  0.516751  ,  0.41945362],\n",
       "       [-0.6103475 , -1.7207783 ,  1.7978761 ,  0.25052562, -0.92788976],\n",
       "       [ 0.16212834, -0.37156075,  0.48100296, -0.0680768 , -0.42917976],\n",
       "       [ 1.8875461 , -0.27881643,  0.67728835, -0.2821731 ,  0.32721034]],\n",
       "      dtype=float32)"
      ]
     },
     "execution_count": 2,
     "metadata": {},
     "output_type": "execute_result"
    }
   ],
   "source": [
    "random_tensor = tf.random.normal([5,5])\n",
    "random_tensor.numpy()"
   ]
  },
  {
   "cell_type": "markdown",
   "id": "d1fcb6ea-010c-49f5-a1bf-07de85767800",
   "metadata": {},
   "source": [
    "# Buatlah sebuah tensor dengan shape(5,5) dari sebuah list dengan nilai bilangan prima dalam variable prime_tensor."
   ]
  },
  {
   "cell_type": "code",
   "execution_count": 15,
   "id": "8fa30077-206b-46d5-8069-5cfe061a414d",
   "metadata": {},
   "outputs": [
    {
     "name": "stdout",
     "output_type": "stream",
     "text": [
      "tf.Tensor(\n",
      "[[ 1.  3.  5.  7. 11.]\n",
      " [13. 17. 19. 23. 29.]\n",
      " [31. 37. 41. 43. 47.]\n",
      " [53. 59. 61. 67. 71.]\n",
      " [73. 79. 83. 89. 97.]], shape=(5, 5), dtype=float32)\n"
     ]
    }
   ],
   "source": [
    "prime_tensor = tf.convert_to_tensor([[1,3,5,7,11],\n",
    "                                    [13, 17, 19, 23, 29], \n",
    "                                     [31, 37, 41, 43, 47], \n",
    "                                    [53, 59, 61, 67, 71], \n",
    "                                     [73, 79, 83, 89, 97]], dtype=tf.float32)\n",
    "print(prime_tensor)"
   ]
  },
  {
   "cell_type": "markdown",
   "id": "c72bd891-b480-4e8d-bedd-8c75d8e07da5",
   "metadata": {},
   "source": [
    "# Tampilkan dimensi dari kedua variable tersebut"
   ]
  },
  {
   "cell_type": "code",
   "execution_count": 16,
   "id": "735d875b-eeb0-41e6-8fef-7484d10cc1ae",
   "metadata": {},
   "outputs": [
    {
     "name": "stdout",
     "output_type": "stream",
     "text": [
      "Dimensi Variabel\n",
      "random_tensor Dimensi : (5, 5)\n",
      "prime_tensor Dimensi : (5, 5)\n"
     ]
    }
   ],
   "source": [
    "print(\"Dimensi Variabel\")\n",
    "print(\"random_tensor Dimensi :\",random_tensor.shape)\n",
    "print(\"prime_tensor Dimensi :\",prime_tensor.shape)"
   ]
  },
  {
   "cell_type": "markdown",
   "id": "c9543069-84e4-475e-9beb-e3eb1b4ef4ae",
   "metadata": {},
   "source": [
    "# Tampilkan hasil dari perhitungan aritmetika 2 variable tersebut (Gunakan minimal 5 operator)."
   ]
  },
  {
   "cell_type": "code",
   "execution_count": 21,
   "id": "269f94f4-a2f1-476c-a9ba-dbc67d421637",
   "metadata": {},
   "outputs": [
    {
     "data": {
      "text/plain": [
       "<tf.Tensor: shape=(5, 5), dtype=float32, numpy=\n",
       "array([[ 0.8111165,  1.6900053,  4.7708426,  5.955568 , 11.423936 ],\n",
       "       [12.406062 , 17.862793 , 17.96391  , 23.51675  , 29.419453 ],\n",
       "       [30.389652 , 35.27922  , 42.797874 , 43.250526 , 46.07211  ],\n",
       "       [53.16213  , 58.62844  , 61.481003 , 66.93192  , 70.57082  ],\n",
       "       [74.88754  , 78.72118  , 83.67729  , 88.71783  , 97.32721  ]],\n",
       "      dtype=float32)>"
      ]
     },
     "execution_count": 21,
     "metadata": {},
     "output_type": "execute_result"
    }
   ],
   "source": [
    "#Penjumlahan\n",
    "a = random_tensor\n",
    "b = prime_tensor\n",
    "tf.add(a,b)"
   ]
  },
  {
   "cell_type": "code",
   "execution_count": 25,
   "id": "b7d46241-68e1-4b3f-8c44-d89b8f5f7b3d",
   "metadata": {},
   "outputs": [
    {
     "data": {
      "text/plain": [
       "<tf.Tensor: shape=(5, 5), dtype=float32, numpy=\n",
       "array([[ -1.1888835,  -4.3099947,  -5.2291574,  -8.044432 , -10.576064 ],\n",
       "       [-13.593938 , -16.137207 , -20.03609  , -22.48325  , -28.580547 ],\n",
       "       [-31.610348 , -38.72078  , -39.202126 , -42.749474 , -47.92789  ],\n",
       "       [-52.83787  , -59.37156  , -60.518997 , -67.06808  , -71.42918  ],\n",
       "       [-71.11246  , -79.27882  , -82.32271  , -89.28217  , -96.67279  ]],\n",
       "      dtype=float32)>"
      ]
     },
     "execution_count": 25,
     "metadata": {},
     "output_type": "execute_result"
    }
   ],
   "source": [
    "#pengurangan\n",
    "tf.subtract(a,b)"
   ]
  },
  {
   "cell_type": "code",
   "execution_count": 27,
   "id": "4dee9d75-2614-423f-a717-994e909c9bbd",
   "metadata": {},
   "outputs": [
    {
     "data": {
      "text/plain": [
       "<tf.Tensor: shape=(5, 5), dtype=float32, numpy=\n",
       "array([[ -0.18888348,  -3.929984  ,  -1.1457881 ,  -7.311025  ,\n",
       "          4.6632953 ],\n",
       "       [ -7.721195  ,  14.667479  , -19.68574   ,  11.885273  ,\n",
       "         12.164155  ],\n",
       "       [-18.920773  , -63.6688    ,  73.71292   ,  10.772602  ,\n",
       "        -43.61082   ],\n",
       "       [  8.592802  , -21.922085  ,  29.34118   ,  -4.5611453 ,\n",
       "        -30.471764  ],\n",
       "       [137.79086   , -22.026499  ,  56.21493   , -25.113405  ,\n",
       "         31.739403  ]], dtype=float32)>"
      ]
     },
     "execution_count": 27,
     "metadata": {},
     "output_type": "execute_result"
    }
   ],
   "source": [
    "#perkalian\n",
    "tf.multiply(a,b)"
   ]
  },
  {
   "cell_type": "code",
   "execution_count": 28,
   "id": "88a657dc-f80b-4e70-92e0-32ddf7a69f90",
   "metadata": {},
   "outputs": [
    {
     "data": {
      "text/plain": [
       "<tf.Tensor: shape=(5, 5), dtype=float32, numpy=\n",
       "array([[-0.18888348, -0.4366649 , -0.04583152, -0.1492046 ,  0.03853963],\n",
       "       [-0.04568755,  0.05075252, -0.05453113,  0.02246743,  0.01446392],\n",
       "       [-0.01968863, -0.04650752,  0.04385064,  0.00582618, -0.01974234],\n",
       "       [ 0.00305903, -0.00629764,  0.00788529, -0.00101607, -0.00604479],\n",
       "       [ 0.02585679, -0.00352932,  0.0081601 , -0.00317048,  0.0033733 ]],\n",
       "      dtype=float32)>"
      ]
     },
     "execution_count": 28,
     "metadata": {},
     "output_type": "execute_result"
    }
   ],
   "source": [
    "#pembagian\n",
    "tf.divide(a,b)"
   ]
  },
  {
   "cell_type": "code",
   "execution_count": 29,
   "id": "211887b1-7dde-4657-98fd-afb77c9b0f65",
   "metadata": {},
   "outputs": [
    {
     "data": {
      "text/plain": [
       "<tf.Tensor: shape=(5, 5), dtype=float32, numpy=\n",
       "array([[-1.8888348e-01, -2.2480638e+00, -6.3193357e-04, -1.3556939e+00,\n",
       "         7.9488207e-05],\n",
       "       [-1.1445520e-03,  8.1360035e-02, -1.9613930e+00,  2.5437259e-07,\n",
       "         1.1424428e-11],\n",
       "       [-2.2536811e-07, -5.2701443e+08,  2.7870857e+10,  1.4146288e-26,\n",
       "        -2.9670853e-02],\n",
       "       [ 0.0000000e+00, -4.2831194e-26,  4.0833115e-20, -0.0000000e+00,\n",
       "        -8.2677122e-27],\n",
       "       [ 1.3820437e+20, -0.0000000e+00,  8.9993143e-15, -0.0000000e+00,\n",
       "         0.0000000e+00]], dtype=float32)>"
      ]
     },
     "execution_count": 29,
     "metadata": {},
     "output_type": "execute_result"
    }
   ],
   "source": [
    "tf.pow(a,b)"
   ]
  },
  {
   "cell_type": "markdown",
   "id": "fc5104c1-767c-4154-8d4e-fbd4493cc51b",
   "metadata": {},
   "source": [
    "# Tampilkan nilai maksimum dan minimum dari variable random_tensor."
   ]
  },
  {
   "cell_type": "code",
   "execution_count": 31,
   "id": "3a9b94a6-a52b-4536-8bed-df540d38152f",
   "metadata": {},
   "outputs": [
    {
     "name": "stdout",
     "output_type": "stream",
     "text": [
      "Nilai Maksimal random_tensor = tf.Tensor([4 1 2 1 0], shape=(5,), dtype=int64)\n",
      "Nilai Minimal random_tensor = tf.Tensor([2 2 1 0 2], shape=(5,), dtype=int64)\n"
     ]
    }
   ],
   "source": [
    "argmax = tf.constant(random_tensor)\n",
    "print(\"Nilai Maksimal random_tensor =\",tf.argmax(random_tensor,axis=0))\n",
    "print(\"Nilai Minimal random_tensor =\",tf.argmin(random_tensor,axis=0))"
   ]
  },
  {
   "cell_type": "markdown",
   "id": "9b2f7519-b08c-4df2-bd92-82835debf884",
   "metadata": {},
   "source": [
    "# Tampilkan hasil dari penggabungan variable random_tensor dengan prime_tensor (concatenation)"
   ]
  },
  {
   "cell_type": "code",
   "execution_count": 33,
   "id": "55519aec-4a93-473e-85c4-c33ced43d4db",
   "metadata": {},
   "outputs": [
    {
     "data": {
      "text/plain": [
       "<tf.Tensor: shape=(10, 5), dtype=float32, numpy=\n",
       "array([[-1.8888348e-01, -1.3099947e+00, -2.2915761e-01, -1.0444322e+00,\n",
       "         4.2393595e-01],\n",
       "       [-5.9393811e-01,  8.6279285e-01, -1.0360916e+00,  5.1675099e-01,\n",
       "         4.1945362e-01],\n",
       "       [-6.1034751e-01, -1.7207783e+00,  1.7978761e+00,  2.5052562e-01,\n",
       "        -9.2788976e-01],\n",
       "       [ 1.6212834e-01, -3.7156075e-01,  4.8100296e-01, -6.8076797e-02,\n",
       "        -4.2917976e-01],\n",
       "       [ 1.8875461e+00, -2.7881643e-01,  6.7728835e-01, -2.8217310e-01,\n",
       "         3.2721034e-01],\n",
       "       [ 1.0000000e+00,  3.0000000e+00,  5.0000000e+00,  7.0000000e+00,\n",
       "         1.1000000e+01],\n",
       "       [ 1.3000000e+01,  1.7000000e+01,  1.9000000e+01,  2.3000000e+01,\n",
       "         2.9000000e+01],\n",
       "       [ 3.1000000e+01,  3.7000000e+01,  4.1000000e+01,  4.3000000e+01,\n",
       "         4.7000000e+01],\n",
       "       [ 5.3000000e+01,  5.9000000e+01,  6.1000000e+01,  6.7000000e+01,\n",
       "         7.1000000e+01],\n",
       "       [ 7.3000000e+01,  7.9000000e+01,  8.3000000e+01,  8.9000000e+01,\n",
       "         9.7000000e+01]], dtype=float32)>"
      ]
     },
     "execution_count": 33,
     "metadata": {},
     "output_type": "execute_result"
    }
   ],
   "source": [
    "concat = tf.concat([random_tensor,prime_tensor], axis=0)\n",
    "concat"
   ]
  },
  {
   "cell_type": "markdown",
   "id": "56ea6f00-c32c-4a0c-a07a-6c31d7dc7fb6",
   "metadata": {},
   "source": [
    "# Tampilkan hasil sorting dari kedua variable di atas (descending)"
   ]
  },
  {
   "cell_type": "code",
   "execution_count": 36,
   "id": "01fd7fbe-4483-4bab-b93b-d3ee287270b9",
   "metadata": {},
   "outputs": [
    {
     "name": "stdout",
     "output_type": "stream",
     "text": [
      "Sorting random_tensor Descending\n",
      "tf.Tensor(\n",
      "[[ 0.42393595 -0.18888348 -0.22915761 -1.0444322  -1.3099947 ]\n",
      " [ 0.86279285  0.516751    0.41945362 -0.5939381  -1.0360916 ]\n",
      " [ 1.7978761   0.25052562 -0.6103475  -0.92788976 -1.7207783 ]\n",
      " [ 0.48100296  0.16212834 -0.0680768  -0.37156075 -0.42917976]\n",
      " [ 1.8875461   0.67728835  0.32721034 -0.27881643 -0.2821731 ]], shape=(5, 5), dtype=float32)\n",
      "\n",
      "\n",
      "Sorting prime_tensor Descending\n",
      "tf.Tensor(\n",
      "[[11.  7.  5.  3.  1.]\n",
      " [29. 23. 19. 17. 13.]\n",
      " [47. 43. 41. 37. 31.]\n",
      " [71. 67. 61. 59. 53.]\n",
      " [97. 89. 83. 79. 73.]], shape=(5, 5), dtype=float32)\n"
     ]
    }
   ],
   "source": [
    "print(\"Sorting random_tensor Descending\")\n",
    "print(tf.sort(random_tensor,direction=\"DESCENDING\"))\n",
    "print(\"\\n\")\n",
    "print(\"Sorting prime_tensor Descending\")\n",
    "print(tf.sort(prime_tensor,direction=\"DESCENDING\"))"
   ]
  }
 ],
 "metadata": {
  "kernelspec": {
   "display_name": "Python 3 (ipykernel)",
   "language": "python",
   "name": "python3"
  },
  "language_info": {
   "codemirror_mode": {
    "name": "ipython",
    "version": 3
   },
   "file_extension": ".py",
   "mimetype": "text/x-python",
   "name": "python",
   "nbconvert_exporter": "python",
   "pygments_lexer": "ipython3",
   "version": "3.10.7"
  }
 },
 "nbformat": 4,
 "nbformat_minor": 5
}
