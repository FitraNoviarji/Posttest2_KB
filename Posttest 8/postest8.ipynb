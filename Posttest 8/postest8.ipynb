{
 "cells": [
  {
   "cell_type": "markdown",
   "id": "8fc7794b-bf82-4746-8c9f-773a733217ae",
   "metadata": {},
   "source": [
    "# Posttest 8\n",
    "# Mengimport Library"
   ]
  },
  {
   "cell_type": "code",
   "execution_count": 137,
   "id": "18a9c988-f66d-4209-a4a8-6044c512abc2",
   "metadata": {},
   "outputs": [],
   "source": [
    "import numpy as np\n",
    "import pandas as pd\n",
    "import matplotlib.pyplot as plt\n",
    "\n",
    "from tensorflow import keras\n",
    "import tensorflow as tf\n",
    "from tensorflow.keras import Sequential\n",
    "from tensorflow.keras.layers import Dense\n",
    "from tensorflow.keras import datasets\n",
    "\n",
    "from sklearn.preprocessing import StandardScaler \n",
    "from sklearn.model_selection import train_test_split"
   ]
  },
  {
   "cell_type": "markdown",
   "id": "bd71f825-2aa3-497d-820c-3ead75b81759",
   "metadata": {},
   "source": [
    "# Melihat Data"
   ]
  },
  {
   "cell_type": "code",
   "execution_count": 138,
   "id": "c76da7a9-4fdc-4138-8ce0-869fb0fd8bda",
   "metadata": {},
   "outputs": [],
   "source": [
    "data = pd.read_csv('chinese_mnist.csv')"
   ]
  },
  {
   "cell_type": "code",
   "execution_count": 139,
   "id": "4f0f9bd2-4580-46f5-ad21-d621dd746334",
   "metadata": {},
   "outputs": [
    {
     "data": {
      "text/html": [
       "<div>\n",
       "<style scoped>\n",
       "    .dataframe tbody tr th:only-of-type {\n",
       "        vertical-align: middle;\n",
       "    }\n",
       "\n",
       "    .dataframe tbody tr th {\n",
       "        vertical-align: top;\n",
       "    }\n",
       "\n",
       "    .dataframe thead th {\n",
       "        text-align: right;\n",
       "    }\n",
       "</style>\n",
       "<table border=\"1\" class=\"dataframe\">\n",
       "  <thead>\n",
       "    <tr style=\"text-align: right;\">\n",
       "      <th></th>\n",
       "      <th>suite_id</th>\n",
       "      <th>sample_id</th>\n",
       "      <th>code</th>\n",
       "      <th>value</th>\n",
       "      <th>character</th>\n",
       "    </tr>\n",
       "  </thead>\n",
       "  <tbody>\n",
       "    <tr>\n",
       "      <th>0</th>\n",
       "      <td>1</td>\n",
       "      <td>1</td>\n",
       "      <td>10</td>\n",
       "      <td>9</td>\n",
       "      <td>九</td>\n",
       "    </tr>\n",
       "    <tr>\n",
       "      <th>1</th>\n",
       "      <td>1</td>\n",
       "      <td>10</td>\n",
       "      <td>10</td>\n",
       "      <td>9</td>\n",
       "      <td>九</td>\n",
       "    </tr>\n",
       "    <tr>\n",
       "      <th>2</th>\n",
       "      <td>1</td>\n",
       "      <td>2</td>\n",
       "      <td>10</td>\n",
       "      <td>9</td>\n",
       "      <td>九</td>\n",
       "    </tr>\n",
       "    <tr>\n",
       "      <th>3</th>\n",
       "      <td>1</td>\n",
       "      <td>3</td>\n",
       "      <td>10</td>\n",
       "      <td>9</td>\n",
       "      <td>九</td>\n",
       "    </tr>\n",
       "    <tr>\n",
       "      <th>4</th>\n",
       "      <td>1</td>\n",
       "      <td>4</td>\n",
       "      <td>10</td>\n",
       "      <td>9</td>\n",
       "      <td>九</td>\n",
       "    </tr>\n",
       "  </tbody>\n",
       "</table>\n",
       "</div>"
      ],
      "text/plain": [
       "   suite_id  sample_id  code  value character\n",
       "0         1          1    10      9         九\n",
       "1         1         10    10      9         九\n",
       "2         1          2    10      9         九\n",
       "3         1          3    10      9         九\n",
       "4         1          4    10      9         九"
      ]
     },
     "execution_count": 139,
     "metadata": {},
     "output_type": "execute_result"
    }
   ],
   "source": [
    "data.head()"
   ]
  },
  {
   "cell_type": "code",
   "execution_count": 140,
   "id": "bbbd2b4b-41a1-4f4c-a6b2-55a6e9cf1e99",
   "metadata": {},
   "outputs": [
    {
     "data": {
      "text/plain": [
       "suite_id      int64\n",
       "sample_id     int64\n",
       "code          int64\n",
       "value         int64\n",
       "character    object\n",
       "dtype: object"
      ]
     },
     "execution_count": 140,
     "metadata": {},
     "output_type": "execute_result"
    }
   ],
   "source": [
    "data.dtypes"
   ]
  },
  {
   "cell_type": "markdown",
   "id": "63aec6a3-1c66-445b-a4d0-17cb5e6800a7",
   "metadata": {},
   "source": [
    "# Data Spliting"
   ]
  },
  {
   "cell_type": "code",
   "execution_count": 187,
   "id": "08404aea-ab8f-4ec9-b791-e42ae46a1920",
   "metadata": {},
   "outputs": [],
   "source": [
    "X = data[['sample_id','code', 'value', 'suite_id']]\n",
    "Y = data[['sample_id','code','value', 'suite_id']]"
   ]
  },
  {
   "cell_type": "code",
   "execution_count": 188,
   "id": "fbad9345-a297-4e09-93d7-2cba8dbcf545",
   "metadata": {},
   "outputs": [],
   "source": [
    "X_train, X_test, Y_train, Y_test = train_test_split(X, Y, test_size = 0.1 , random_state = 0)"
   ]
  },
  {
   "cell_type": "code",
   "execution_count": 164,
   "id": "8b43795a-aff2-48f1-ae93-9528436ea6b2",
   "metadata": {},
   "outputs": [
    {
     "data": {
      "text/plain": [
       "(13500, 3)"
      ]
     },
     "execution_count": 164,
     "metadata": {},
     "output_type": "execute_result"
    }
   ],
   "source": [
    "X_train.shape"
   ]
  },
  {
   "cell_type": "code",
   "execution_count": 165,
   "id": "8f32d0b4-bc75-432b-ab85-12b3280fa504",
   "metadata": {},
   "outputs": [
    {
     "data": {
      "text/plain": [
       "(1500, 3)"
      ]
     },
     "execution_count": 165,
     "metadata": {},
     "output_type": "execute_result"
    }
   ],
   "source": [
    "X_test.shape"
   ]
  },
  {
   "cell_type": "code",
   "execution_count": 166,
   "id": "47348ec0-38fe-467e-af3f-10fc8c070c27",
   "metadata": {},
   "outputs": [
    {
     "data": {
      "text/plain": [
       "(13500, 3)"
      ]
     },
     "execution_count": 166,
     "metadata": {},
     "output_type": "execute_result"
    }
   ],
   "source": [
    "Y_train.shape"
   ]
  },
  {
   "cell_type": "code",
   "execution_count": 167,
   "id": "41b5ee0b-df8c-40c8-ba73-8d71d8e17c4d",
   "metadata": {},
   "outputs": [
    {
     "data": {
      "text/plain": [
       "(1500, 3)"
      ]
     },
     "execution_count": 167,
     "metadata": {},
     "output_type": "execute_result"
    }
   ],
   "source": [
    "Y_test.shape"
   ]
  },
  {
   "cell_type": "markdown",
   "id": "2c23c5b6-4ee6-44b6-8cf8-7ee4159b618d",
   "metadata": {},
   "source": [
    "# Model Sequential"
   ]
  },
  {
   "cell_type": "code",
   "execution_count": 189,
   "id": "8d0a899b-b138-46cd-be8f-a2bfa94ade48",
   "metadata": {},
   "outputs": [],
   "source": [
    "model_data = Sequential()"
   ]
  },
  {
   "cell_type": "code",
   "execution_count": 190,
   "id": "d145ab23-f653-4b1c-805a-8dcaa61953ce",
   "metadata": {},
   "outputs": [],
   "source": [
    "# Membuat Input Layer\n",
    "model_data.add(Dense(512, activation='relu', input_dim = 4))"
   ]
  },
  {
   "cell_type": "code",
   "execution_count": 191,
   "id": "4d6469d4-067a-49e6-ac44-2dccd4e48c29",
   "metadata": {},
   "outputs": [],
   "source": [
    "# Membuat Hidden Layer\n",
    "model_data.add(Dense(256, activation='relu'))\n",
    "model_data.add(Dense(128, activation='relu'))\n"
   ]
  },
  {
   "cell_type": "code",
   "execution_count": 192,
   "id": "bda6cf60-41ae-48cc-aa88-d0b37e1d37b3",
   "metadata": {},
   "outputs": [],
   "source": [
    "# membuat Output layer\n",
    "model_data.add(Dense(4, activation='sigmoid'))"
   ]
  },
  {
   "cell_type": "code",
   "execution_count": 193,
   "id": "4b44301a-22f0-464b-ab70-0245f34df223",
   "metadata": {},
   "outputs": [
    {
     "name": "stdout",
     "output_type": "stream",
     "text": [
      "Model: \"sequential_8\"\n",
      "_________________________________________________________________\n",
      " Layer (type)                Output Shape              Param #   \n",
      "=================================================================\n",
      " dense_37 (Dense)            (None, 512)               2560      \n",
      "                                                                 \n",
      " dense_38 (Dense)            (None, 256)               131328    \n",
      "                                                                 \n",
      " dense_39 (Dense)            (None, 128)               32896     \n",
      "                                                                 \n",
      " dense_40 (Dense)            (None, 4)                 516       \n",
      "                                                                 \n",
      "=================================================================\n",
      "Total params: 167,300\n",
      "Trainable params: 167,300\n",
      "Non-trainable params: 0\n",
      "_________________________________________________________________\n"
     ]
    }
   ],
   "source": [
    "# Model Summary\n",
    "model_data.summary()"
   ]
  },
  {
   "cell_type": "code",
   "execution_count": 194,
   "id": "75f23a91-2fc6-4201-bb70-e4bcb282d038",
   "metadata": {},
   "outputs": [],
   "source": [
    "# Compile Data"
   ]
  },
  {
   "cell_type": "code",
   "execution_count": 195,
   "id": "f2fad3c0-15c6-408c-9f4c-053b1c1b0596",
   "metadata": {},
   "outputs": [],
   "source": [
    "model_data.compile(optimizer='adam', loss='categorical_crossentropy', metrics=['accuracy'])"
   ]
  },
  {
   "cell_type": "code",
   "execution_count": 196,
   "id": "75413dbd-4a44-40a5-a86c-9f309dd8adbb",
   "metadata": {},
   "outputs": [
    {
     "name": "stdout",
     "output_type": "stream",
     "text": [
      "Epoch 1/10\n",
      "106/106 [==============================] - 1s 5ms/step - loss: 616134344704.0000 - accuracy: 0.2863 - val_loss: 473851527168.0000 - val_accuracy: 0.2447\n",
      "Epoch 2/10\n",
      "106/106 [==============================] - 0s 3ms/step - loss: 3185198759936.0000 - accuracy: 0.2691 - val_loss: 7893106032640.0000 - val_accuracy: 0.2447\n",
      "Epoch 3/10\n",
      "106/106 [==============================] - 0s 3ms/step - loss: 21233886298112.0000 - accuracy: 0.2691 - val_loss: 36780678053888.0000 - val_accuracy: 0.2447\n",
      "Epoch 4/10\n",
      "106/106 [==============================] - 0s 4ms/step - loss: nan - accuracy: 0.1104 - val_loss: nan - val_accuracy: 0.0293\n",
      "Epoch 5/10\n",
      "106/106 [==============================] - 0s 4ms/step - loss: nan - accuracy: 0.0253 - val_loss: nan - val_accuracy: 0.0293\n",
      "Epoch 6/10\n",
      "106/106 [==============================] - 0s 4ms/step - loss: nan - accuracy: 0.0253 - val_loss: nan - val_accuracy: 0.0293\n",
      "Epoch 7/10\n",
      "106/106 [==============================] - 0s 4ms/step - loss: nan - accuracy: 0.0253 - val_loss: nan - val_accuracy: 0.0293\n",
      "Epoch 8/10\n",
      "106/106 [==============================] - 0s 4ms/step - loss: nan - accuracy: 0.0253 - val_loss: nan - val_accuracy: 0.0293\n",
      "Epoch 9/10\n",
      "106/106 [==============================] - 0s 4ms/step - loss: nan - accuracy: 0.0253 - val_loss: nan - val_accuracy: 0.0293\n",
      "Epoch 10/10\n",
      "106/106 [==============================] - 0s 5ms/step - loss: nan - accuracy: 0.0253 - val_loss: nan - val_accuracy: 0.0293\n"
     ]
    }
   ],
   "source": [
    "hasil = model_data.fit(X_train, Y_train, epochs=10, batch_size=128, validation_data=(X_test, Y_test))"
   ]
  },
  {
   "cell_type": "code",
   "execution_count": 197,
   "id": "e7f5b9e4-3a03-4f17-bcc9-7d97a47aefd9",
   "metadata": {},
   "outputs": [
    {
     "data": {
      "image/png": "[encoded data removed]",
      "text/plain": [
       "<Figure size 1600x900 with 2 Axes>"
      ]
     },
     "metadata": {},
     "output_type": "display_data"
    }
   ],
   "source": [
    "plt.figure(figsize=(16,9))\n",
    "\n",
    "epochs_run = [i+1 for i in range(10)]\n",
    "\n",
    "# Akurasi\n",
    "plt.subplot(1,2,1)\n",
    "plt.plot(epochs_run, hasil.history['accuracy'], label='Training')\n",
    "plt.plot(epochs_run, hasil.history['val_accuracy'], label='Testing')\n",
    "plt.title(\"Akurasi\")\n",
    "plt.legend()\n",
    "\n",
    "# Loss\n",
    "plt.subplot(1,2,2)\n",
    "plt.plot(epochs_run, hasil.history['loss'], label='Training')\n",
    "plt.plot(epochs_run, hasil.history['val_loss'], label='Testing')\n",
    "plt.title(\"Loss\")\n",
    "plt.legend()\n",
    "\n",
    "plt.show()"
   ]
  },
  {
   "cell_type": "code",
   "execution_count": 198,
   "id": "e70a1b81-e3b8-4eff-bbd7-1b8f0e6f45f9",
   "metadata": {},
   "outputs": [
    {
     "name": "stdout",
     "output_type": "stream",
     "text": [
      "47/47 [==============================] - 0s 2ms/step - loss: nan - accuracy: 0.0293\n",
      "Loss : nan\n",
      "Training : 0.029333332553505898\n"
     ]
    }
   ],
   "source": [
    "score = model_data.evaluate(X_test, Y_test)\n",
    "print(\"Loss :\",score[0])\n",
    "print(\"Training :\",score[1])"
   ]
  },
  {
   "cell_type": "code",
   "execution_count": 199,
   "id": "e4999f1f-860a-41e2-a831-49620e6b3b42",
   "metadata": {},
   "outputs": [
    {
     "name": "stdout",
     "output_type": "stream",
     "text": [
      "Akurasi validasi : 2.9333332553505898 %\n",
      "Akurasi : 2.5259260088205338 %\n"
     ]
    }
   ],
   "source": [
    "print(\"Akurasi validasi :\", hasil.history[\"val_accuracy\"][-1] * 100, \"%\")\n",
    "print(\"Akurasi :\", hasil.history[\"accuracy\"][-1] * 100, \"%\")"
   ]
  },
  {
   "cell_type": "code",
   "execution_count": null,
   "id": "78db547c-29d1-4a56-bf4c-bdc19eac4ba7",
   "metadata": {},
   "outputs": [],
   "source": []
  },
  {
   "cell_type": "code",
   "execution_count": null,
   "id": "d8145df3-3531-421f-adf6-f244fd3ba2cf",
   "metadata": {},
   "outputs": [],
   "source": []
  }
 ],
 "metadata": {
  "kernelspec": {
   "display_name": "Python 3 (ipykernel)",
   "language": "python",
   "name": "python3"
  },
  "language_info": {
   "codemirror_mode": {
    "name": "ipython",
    "version": 3
   },
   "file_extension": ".py",
   "mimetype": "text/x-python",
   "name": "python",
   "nbconvert_exporter": "python",
   "pygments_lexer": "ipython3",
   "version": "3.10.7"
  }
 },
 "nbformat": 4,
 "nbformat_minor": 5
}
